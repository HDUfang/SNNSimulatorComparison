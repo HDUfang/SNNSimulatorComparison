{
 "cells": [
  {
   "cell_type": "markdown",
   "metadata": {},
   "source": [
    "# Brunel 10K Neuron Network Analysis"
   ]
  },
  {
   "cell_type": "code",
   "execution_count": 1,
   "metadata": {},
   "outputs": [
    {
     "name": "stderr",
     "output_type": "stream",
     "text": [
      "/home/nas/anaconda2/envs/cochlea/lib/python2.7/site-packages/matplotlib/font_manager.py:273: UserWarning: Matplotlib is building the font cache using fc-list. This may take a moment.\n",
      "  warnings.warn('Matplotlib is building the font cache using fc-list. This may take a moment.')\n"
     ]
    }
   ],
   "source": [
    "import numpy as np\n",
    "import pandas as pd\n",
    "import matplotlib.pyplot as plt\n",
    "import os\n",
    "from numba import jit\n",
    "\n",
    "%matplotlib inline"
   ]
  },
  {
   "cell_type": "markdown",
   "metadata": {},
   "source": [
    "#### Loading auryn weights"
   ]
  },
  {
   "cell_type": "code",
   "execution_count": 8,
   "metadata": {},
   "outputs": [],
   "source": [
    "from scipy.io import mmread\n",
    "aurynweightmatrix = mmread('../auryn/network.dat.0.0.wmat')"
   ]
  },
  {
   "cell_type": "markdown",
   "metadata": {},
   "source": [
    "#### Loading NEST weights"
   ]
  },
  {
   "cell_type": "code",
   "execution_count": 2,
   "metadata": {},
   "outputs": [],
   "source": [
    "# Loading nest weights\n",
    "nestweights = np.loadtxt(\"../pyNest/PlasticSynapseWeights.txt\")"
   ]
  },
  {
   "cell_type": "markdown",
   "metadata": {},
   "source": [
    "#### Loading ANNarchy weights"
   ]
  },
  {
   "cell_type": "code",
   "execution_count": 19,
   "metadata": {},
   "outputs": [],
   "source": [
    "# Loading nest weights\n",
    "annarchyweights = np.loadtxt(\"../ANNarchy/plasticweights.txt\")"
   ]
  },
  {
   "cell_type": "markdown",
   "metadata": {},
   "source": [
    "#### Loading Brian2 weights"
   ]
  },
  {
   "cell_type": "code",
   "execution_count": 15,
   "metadata": {},
   "outputs": [],
   "source": [
    "# Loading nest weights\n",
    "brian2weights = np.loadtxt(\"../brian2/plasticweights.txt\")"
   ]
  },
  {
   "cell_type": "markdown",
   "metadata": {},
   "source": [
    "#### Loading Spike weights"
   ]
  },
  {
   "cell_type": "code",
   "execution_count": 3,
   "metadata": {},
   "outputs": [],
   "source": [
    "prefile = \"../Spike/Build/output/Synapses_NetworkPre.bin\"\n",
    "postfile = \"../Spike/Build/output/Synapses_NetworkPost.bin\"\n",
    "weightfile = \"../Spike/Build/output/Synapses_NetworkWeights.bin\"\n",
    "\n",
    "\n",
    "spike_network_df = pd.DataFrame(data = {\"pre\": np.fromfile(prefile, dtype=np.int32), \"post\": np.fromfile(postfile, dtype=np.int32), \"weight\": np.fromfile(weightfile, dtype=np.float32)})"
   ]
  },
  {
   "cell_type": "code",
   "execution_count": 4,
   "metadata": {},
   "outputs": [],
   "source": [
    "mask = (spike_network_df[\"pre\"] >= 0) & (spike_network_df[\"pre\"] < 8000) & (spike_network_df[\"post\"] >= 0) & (spike_network_df[\"post\"] < 8000)\n",
    "spikeweights = spike_network_df[\"weight\"][mask]"
   ]
  },
  {
   "cell_type": "markdown",
   "metadata": {},
   "source": [
    "### Plotting Weight Histograms after 20s of Simulation"
   ]
  },
  {
   "cell_type": "code",
   "execution_count": 30,
   "metadata": {},
   "outputs": [],
   "source": [
    "data = [\n",
    "    spikeweights.values*1000,\n",
    "    annarchyweights.flatten(),\n",
    "    aurynweightmatrix.data*1000,\n",
    "#     brian2weights,\n",
    "    nestweights\n",
    "]\n",
    "\n",
    "labels = [\n",
    "    \"Spike\",\n",
    "    \"ANNarchy\",\n",
    "    \"Auryn\",\n",
    "#     \"Brian2\",\n",
    "    \"Nest\"\n",
    "]\n",
    "\n",
    "colors = [\n",
    "    \"red\",\n",
    "    \"orange\",\n",
    "    \"blue\",\n",
    "    \"purple\",\n",
    "    \"green\"\n",
    "]"
   ]
  },
  {
   "cell_type": "code",
   "execution_count": 35,
   "metadata": {},
   "outputs": [
    {
     "data": {
      "text/plain": [
       "([], <a list of 0 Text yticklabel objects>)"
      ]
     },
     "execution_count": 35,
     "metadata": {},
     "output_type": "execute_result"
    },
    {
     "data": {
      "image/png": "[encoded data removed]",
      "text/plain": [
       "<matplotlib.figure.Figure at 0x7fd3dca0ff10>"
      ]
     },
     "metadata": {},
     "output_type": "display_data"
    }
   ],
   "source": [
    "plt.figure(figsize=(7, 5))\n",
    "ax = plt.subplot(1, 1, 1)\n",
    "binvals = np.linspace(0.0,0.20,200)\n",
    "\n",
    "for sim in range(len(data)):\n",
    "    _ = ax.hist(data[sim], bins=binvals, color=colors[sim], label=labels[sim], histtype='step')\n",
    "\n",
    "plt.legend()\n",
    "plt.xlabel(\"Weight Value (mV)\")\n",
    "plt.ylabel(\"Weight Frequency (#)\")\n",
    "plt.yticks([])"
   ]
  },
  {
   "cell_type": "code",
   "execution_count": null,
   "metadata": {},
   "outputs": [],
   "source": []
  }
 ],
 "metadata": {
  "kernelspec": {
   "display_name": "Python [default]",
   "language": "python",
   "name": "python2"
  },
  "language_info": {
   "codemirror_mode": {
    "name": "ipython",
    "version": 2
   },
   "file_extension": ".py",
   "mimetype": "text/x-python",
   "name": "python",
   "nbconvert_exporter": "python",
   "pygments_lexer": "ipython2",
   "version": "2.7.12"
  }
 },
 "nbformat": 4,
 "nbformat_minor": 2
}
