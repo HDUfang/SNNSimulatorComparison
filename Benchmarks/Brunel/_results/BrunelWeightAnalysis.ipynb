{
 "cells": [
  {
   "cell_type": "markdown",
   "metadata": {},
   "source": [
    "# Brunel 10K Neuron Network Analysis"
   ]
  },
  {
   "cell_type": "code",
   "execution_count": 1,
   "metadata": {},
   "outputs": [],
   "source": [
    "import numpy as np\n",
    "import pandas as pd\n",
    "import matplotlib.pyplot as plt\n",
    "import os\n",
    "from numba import jit\n",
    "plt.style.use('seaborn-paper')\n",
    "\n",
    "\n",
    "%matplotlib inline"
   ]
  },
  {
   "cell_type": "markdown",
   "metadata": {},
   "source": [
    "#### Loading auryn weights"
   ]
  },
  {
   "cell_type": "code",
   "execution_count": 2,
   "metadata": {},
   "outputs": [],
   "source": [
    "from scipy.io import mmread\n",
    "aurynweightmatrix = mmread('../auryn/network.dat.0.0.wmat')"
   ]
  },
  {
   "cell_type": "markdown",
   "metadata": {},
   "source": [
    "#### Loading NEST weights"
   ]
  },
  {
   "cell_type": "code",
   "execution_count": 3,
   "metadata": {},
   "outputs": [],
   "source": [
    "# Loading nest weights\n",
    "nestweights = np.loadtxt(\"../pyNest/PlasticSynapseWeights.txt\")"
   ]
  },
  {
   "cell_type": "markdown",
   "metadata": {},
   "source": [
    "#### Loading ANNarchy weights"
   ]
  },
  {
   "cell_type": "code",
   "execution_count": 4,
   "metadata": {},
   "outputs": [],
   "source": [
    "# Loading nest weights\n",
    "annarchyweights = np.loadtxt(\"../ANNarchy/plasticweights.txt\")"
   ]
  },
  {
   "cell_type": "markdown",
   "metadata": {},
   "source": [
    "#### Loading Brian2 weights"
   ]
  },
  {
   "cell_type": "code",
   "execution_count": 5,
   "metadata": {},
   "outputs": [],
   "source": [
    "# Loading nest weights\n",
    "brian2weights = np.loadtxt(\"../brian2/plasticweights.txt\")"
   ]
  },
  {
   "cell_type": "markdown",
   "metadata": {},
   "source": [
    "#### Loading Spike weights"
   ]
  },
  {
   "cell_type": "code",
   "execution_count": 6,
   "metadata": {},
   "outputs": [],
   "source": [
    "prefile = \"../Spike/Build/BRUNELPLASTIC_PresynapticIDs.bin\"\n",
    "postfile = \"../Spike/Build/BRUNELPLASTIC_PostsynapticIDs.bin\"\n",
    "weightfile = \"../Spike/Build/BRUNELPLASTIC_SynapticWeights.bin\"\n",
    "\n",
    "\n",
    "spike_network_df = pd.DataFrame(data = {\"pre\": np.fromfile(prefile, dtype=np.int32), \"post\": np.fromfile(postfile, dtype=np.int32), \"weight\": np.fromfile(weightfile, dtype=np.float32)})"
   ]
  },
  {
   "cell_type": "code",
   "execution_count": 7,
   "metadata": {},
   "outputs": [],
   "source": [
    "spikeweights = spike_network_df[\"weight\"]"
   ]
  },
  {
   "cell_type": "markdown",
   "metadata": {},
   "source": [
    "### Loading GeNN weights"
   ]
  },
  {
   "cell_type": "code",
   "execution_count": 8,
   "metadata": {},
   "outputs": [],
   "source": [
    "weightfile = \"../genn/Weights.bin\"\n",
    "gennweights = np.fromfile(weightfile, dtype=np.float32)"
   ]
  },
  {
   "cell_type": "markdown",
   "metadata": {},
   "source": [
    "### Plotting Weight Histograms after 20s of Simulation"
   ]
  },
  {
   "cell_type": "code",
   "execution_count": 9,
   "metadata": {},
   "outputs": [],
   "source": [
    "data = [\n",
    "    spikeweights.values*1000,\n",
    "    annarchyweights.flatten(),\n",
    "    aurynweightmatrix.data*1000,\n",
    "    brian2weights,\n",
    "    nestweights,\n",
    "    gennweights\n",
    "]\n",
    "\n",
    "labels = [\n",
    "    \"Spike\",\n",
    "    \"ANNarchy\",\n",
    "    \"Auryn\",\n",
    "    \"Brian2\",\n",
    "    \"NEST\",\n",
    "    \"GeNN\"\n",
    "]\n",
    "\n",
    "colors = [\n",
    "    \"red\",\n",
    "    \"orange\",\n",
    "    \"blue\",\n",
    "    \"purple\",\n",
    "    \"green\",\n",
    "    \"magenta\"\n",
    "]"
   ]
  },
  {
   "cell_type": "code",
   "execution_count": 10,
   "metadata": {},
   "outputs": [
    {
     "data": {
      "image/png": "[encoded data removed]",
      "text/plain": [
       "<matplotlib.figure.Figure at 0x7f2cb4e97890>"
      ]
     },
     "metadata": {},
     "output_type": "display_data"
    }
   ],
   "source": [
    "plt.style.use('seaborn-paper')\n",
    "# plt.rcParams['figure.figsize'] = (12.0, 10.0)\n",
    "\n",
    "mylinestyles = ['-' , '--' , '-.' , ':' , '-', '--']\n",
    "\n",
    "fig = plt.figure()\n",
    "ax = plt.subplot(1, 1, 1)\n",
    "binvals = np.linspace(0.07,0.13,200)\n",
    "\n",
    "for sim in range(len(data)):\n",
    "    _ = ax.hist(data[sim], bins=binvals, color=colors[sim], label=labels[sim], histtype='step', alpha=0.75, linewidth=2, linestyle=((sim-3)*20, (10, 10)))\n",
    "\n",
    "plt.legend()\n",
    "plt.xlabel(\"Weight Value (mV)\", size=12)\n",
    "plt.ylabel(\"Weight Frequency (#)\", size=12)\n",
    "ax.xaxis.set_tick_params(labelsize=11)\n",
    "plt.xlim([0.07, 0.13])\n",
    "_ = plt.yticks([])\n",
    "\n",
    "fig.savefig('weightRange_comparison.png', dpi=300)\n"
   ]
  }
 ],
 "metadata": {
  "kernelspec": {
   "display_name": "Python [default]",
   "language": "python",
   "name": "python2"
  },
  "language_info": {
   "codemirror_mode": {
    "name": "ipython",
    "version": 2
   },
   "file_extension": ".py",
   "mimetype": "text/x-python",
   "name": "python",
   "nbconvert_exporter": "python",
   "pygments_lexer": "ipython2",
   "version": "2.7.12"
  }
 },
 "nbformat": 4,
 "nbformat_minor": 2
}
