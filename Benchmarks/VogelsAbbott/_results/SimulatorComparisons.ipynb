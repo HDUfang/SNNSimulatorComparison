{
 "cells": [
  {
   "cell_type": "markdown",
   "metadata": {},
   "source": [
    "# Simulator Response Comparison"
   ]
  },
  {
   "cell_type": "code",
   "execution_count": 1,
   "metadata": {},
   "outputs": [],
   "source": [
    "import numpy as np\n",
    "import pandas as pd\n",
    "import matplotlib.pyplot as plt\n",
    "import os\n",
    "from numba import jit\n",
    "\n",
    "%matplotlib inline"
   ]
  },
  {
   "cell_type": "code",
   "execution_count": 2,
   "metadata": {},
   "outputs": [],
   "source": [
    "# Assumes times are ordered\n",
    "@jit(nopython=True)\n",
    "def get_ISIs(ids, times, num_neurons=3200):\n",
    "    ISIs = np.empty((np.sum(ids < num_neurons)))\n",
    "    currentloc = 0\n",
    "    num_responsive_neurons = 0\n",
    "    for n in range(num_neurons):\n",
    "        indv_neuronspikes = np.sort(times[ids == n])\n",
    "        numiterate = len(indv_neuronspikes) - 1\n",
    "        if (numiterate > 0):\n",
    "            num_responsive_neurons += 1\n",
    "            difference = indv_neuronspikes[1:] - indv_neuronspikes[0:-1]\n",
    "            ISIs[currentloc:(currentloc + numiterate)] = difference\n",
    "            currentloc += numiterate\n",
    "    return (ISIs[:-num_responsive_neurons])\n",
    "\n",
    "def get_rates(ids, times, num_neurons=3200, starttime=0.0, endtime=100.0):\n",
    "    neuronrates = np.empty(num_neurons)\n",
    "    mask = times > starttime\n",
    "    for n in range(num_neurons):\n",
    "        num_spikes = np.sum(ids[mask] == (n))\n",
    "        neuronrates[n] = num_spikes / (endtime - starttime)\n",
    "    return (neuronrates)"
   ]
  },
  {
   "cell_type": "markdown",
   "metadata": {},
   "source": [
    "### Loading Auryn firing times"
   ]
  },
  {
   "cell_type": "code",
   "execution_count": 3,
   "metadata": {},
   "outputs": [
    {
     "name": "stdout",
     "output_type": "stream",
     "text": [
      "\u001b[0m\u001b[01;34mBuild\u001b[0m/        coba.0.i.ras       Makefile                timefile.dat\n",
      "coba.0.e.ras  coba_e_merged.ras  sim_coba_benchmark.cpp\n"
     ]
    }
   ],
   "source": [
    "ls ../auryn/"
   ]
  },
  {
   "cell_type": "code",
   "execution_count": 4,
   "metadata": {},
   "outputs": [],
   "source": [
    "auryn_df = pd.read_csv(\"../auryn/coba.0.e.ras\", delim_whitespace=True, header=None, names=[\"times\", \"ids\"])"
   ]
  },
  {
   "cell_type": "code",
   "execution_count": 5,
   "metadata": {},
   "outputs": [],
   "source": [
    "# Calculate ISIs\n",
    "auryn_ISIs = get_ISIs(auryn_df[\"ids\"].values, auryn_df[\"times\"].values)\n",
    "# Calculating firing rates for the last 50s\n",
    "auryn_neuronrates = get_rates(auryn_df[\"ids\"].values, auryn_df[\"times\"].values)"
   ]
  },
  {
   "cell_type": "code",
   "execution_count": 6,
   "metadata": {},
   "outputs": [],
   "source": [
    "auryn_data = {\n",
    "    \"name\": \"Auryn\",\n",
    "    \"spikes\": auryn_df,\n",
    "    \"ISIs\": auryn_ISIs,\n",
    "    \"rates\": auryn_neuronrates\n",
    "}"
   ]
  },
  {
   "cell_type": "code",
   "execution_count": 7,
   "metadata": {},
   "outputs": [
    {
     "data": {
      "text/plain": [
       "17.354084374999999"
      ]
     },
     "execution_count": 7,
     "metadata": {},
     "output_type": "execute_result"
    }
   ],
   "source": [
    "np.mean(auryn_neuronrates)"
   ]
  },
  {
   "cell_type": "markdown",
   "metadata": {},
   "source": [
    "### Loading Nest firing times"
   ]
  },
  {
   "cell_type": "code",
   "execution_count": 8,
   "metadata": {},
   "outputs": [
    {
     "name": "stdout",
     "output_type": "stream",
     "text": [
      "\u001b[0m\u001b[01;34mBuild\u001b[0m/  COBA.py  \u001b[01;32msetpaths.sh\u001b[0m*  timefile.dat  va-py-ex-4001-0.gdf\n"
     ]
    }
   ],
   "source": [
    "ls ../pyNest/"
   ]
  },
  {
   "cell_type": "code",
   "execution_count": 9,
   "metadata": {},
   "outputs": [],
   "source": [
    "nest_df = pd.read_csv(\"../pyNest/va-py-ex-4001-0.gdf\", delim_whitespace=True, header=None, names=[\"ids\", \"times\"])"
   ]
  },
  {
   "cell_type": "code",
   "execution_count": 10,
   "metadata": {},
   "outputs": [],
   "source": [
    "# Bring nest timing into seconds\n",
    "nest_df[\"times\"] /= 1000.0"
   ]
  },
  {
   "cell_type": "code",
   "execution_count": 11,
   "metadata": {},
   "outputs": [],
   "source": [
    "# Calculate ISIs\n",
    "nest_ISIs = get_ISIs(nest_df[\"ids\"].values - 1, nest_df[\"times\"].values)\n",
    "# Calculating firing rates for the last 50s\n",
    "nest_neuronrates = get_rates(nest_df[\"ids\"].values - 1, nest_df[\"times\"].values)"
   ]
  },
  {
   "cell_type": "code",
   "execution_count": 12,
   "metadata": {},
   "outputs": [],
   "source": [
    "nest_data = {\n",
    "    \"name\": \"Nest\",\n",
    "    \"spikes\": nest_df,\n",
    "    \"ISIs\": nest_ISIs,\n",
    "    \"rates\": nest_neuronrates\n",
    "}"
   ]
  },
  {
   "cell_type": "code",
   "execution_count": 13,
   "metadata": {},
   "outputs": [
    {
     "data": {
      "text/plain": [
       "17.099081249999998"
      ]
     },
     "execution_count": 13,
     "metadata": {},
     "output_type": "execute_result"
    }
   ],
   "source": [
    "np.mean(nest_neuronrates)"
   ]
  },
  {
   "cell_type": "markdown",
   "metadata": {},
   "source": [
    "### Loading Spike firing times"
   ]
  },
  {
   "cell_type": "code",
   "execution_count": 14,
   "metadata": {},
   "outputs": [
    {
     "name": "stdout",
     "output_type": "stream",
     "text": [
      "CMakeCache.txt  cmake_install.cmake  timefile.dat    VASpikeTimes.bin\n",
      "\u001b[0m\u001b[01;34mCMakeFiles\u001b[0m/     Makefile             VASpikeIDs.bin  \u001b[01;32mVogelsAbbottNet\u001b[0m*\n"
     ]
    }
   ],
   "source": [
    "ls ../Spike/Build/"
   ]
  },
  {
   "cell_type": "code",
   "execution_count": 15,
   "metadata": {},
   "outputs": [],
   "source": [
    "idsfile = \"../Spike/Build/VASpikeIDs.bin\"\n",
    "timesfile = \"../Spike/Build/VASpikeTimes.bin\"\n",
    "spike_df = pd.DataFrame(data = {\"ids\": np.fromfile(idsfile, dtype=np.int32), \"times\": np.fromfile(timesfile, dtype=np.float32)})\n"
   ]
  },
  {
   "cell_type": "code",
   "execution_count": 16,
   "metadata": {},
   "outputs": [],
   "source": [
    "# Calculate ISIs\n",
    "spike_ISIs = get_ISIs(spike_df[\"ids\"].values, spike_df[\"times\"].values)\n",
    "# Calculating firing rates for the last 50s\n",
    "spike_neuronrates = get_rates(spike_df[\"ids\"].values, spike_df[\"times\"].values)"
   ]
  },
  {
   "cell_type": "code",
   "execution_count": 17,
   "metadata": {},
   "outputs": [],
   "source": [
    "spike_data = {\n",
    "    \"name\": \"Spike\",\n",
    "    \"spikes\": spike_df,\n",
    "    \"ISIs\": spike_ISIs,\n",
    "    \"rates\": spike_neuronrates\n",
    "}"
   ]
  },
  {
   "cell_type": "code",
   "execution_count": 18,
   "metadata": {},
   "outputs": [
    {
     "data": {
      "text/plain": [
       "17.518084374999997"
      ]
     },
     "execution_count": 18,
     "metadata": {},
     "output_type": "execute_result"
    }
   ],
   "source": [
    "np.mean(spike_neuronrates)"
   ]
  },
  {
   "cell_type": "markdown",
   "metadata": {},
   "source": [
    "### Loading ANNarchy firing times"
   ]
  },
  {
   "cell_type": "code",
   "execution_count": 19,
   "metadata": {},
   "outputs": [
    {
     "name": "stdout",
     "output_type": "stream",
     "text": [
      "\u001b[0m\u001b[01;34mannarchy\u001b[0m/  COBA.py  spikes.out  timefile.dat\n"
     ]
    }
   ],
   "source": [
    "ls ../ANNarchy/"
   ]
  },
  {
   "cell_type": "code",
   "execution_count": 20,
   "metadata": {},
   "outputs": [],
   "source": [
    "spikesfile = \"../ANNarchy/spikes.out\"\n",
    "annarchy_df = pd.read_csv(spikesfile, delim_whitespace=True, header=None, names=[\"ids\", \"times\"])"
   ]
  },
  {
   "cell_type": "code",
   "execution_count": 21,
   "metadata": {},
   "outputs": [],
   "source": [
    "# Bring ANNarchy timing into seconds\n",
    "annarchy_df[\"times\"] /= 10000.0"
   ]
  },
  {
   "cell_type": "code",
   "execution_count": 22,
   "metadata": {},
   "outputs": [],
   "source": [
    "# Calculate ISIs\n",
    "annarchy_ISIs = get_ISIs(annarchy_df[\"ids\"].values, annarchy_df[\"times\"].values)\n",
    "# Calculating firing rates for the last 50s\n",
    "annarchy_neuronrates = get_rates(annarchy_df[\"ids\"].values, annarchy_df[\"times\"].values)"
   ]
  },
  {
   "cell_type": "code",
   "execution_count": 23,
   "metadata": {},
   "outputs": [],
   "source": [
    "annarchy_data = {\n",
    "    \"name\": \"ANNarchy\",\n",
    "    \"spikes\": annarchy_df,\n",
    "    \"ISIs\": annarchy_ISIs,\n",
    "    \"rates\": annarchy_neuronrates\n",
    "}"
   ]
  },
  {
   "cell_type": "code",
   "execution_count": 24,
   "metadata": {},
   "outputs": [
    {
     "data": {
      "text/plain": [
       "17.194906249999999"
      ]
     },
     "execution_count": 24,
     "metadata": {},
     "output_type": "execute_result"
    }
   ],
   "source": [
    "np.mean(annarchy_neuronrates)"
   ]
  },
  {
   "cell_type": "markdown",
   "metadata": {},
   "source": [
    "### Loading Brian2 firing times"
   ]
  },
  {
   "cell_type": "code",
   "execution_count": 64,
   "metadata": {},
   "outputs": [
    {
     "name": "stdout",
     "output_type": "stream",
     "text": [
      "COBA.py  spikes.out  timefile.dat\n"
     ]
    }
   ],
   "source": [
    "ls ../brian2/"
   ]
  },
  {
   "cell_type": "code",
   "execution_count": null,
   "metadata": {},
   "outputs": [],
   "source": [
    "spikesfile = \"../brian2/spikes.out\"\n",
    "brian2_df = pd.read_csv(spikesfile, delim_whitespace=True, header=None, names=[\"ids\", \"times\"])"
   ]
  },
  {
   "cell_type": "code",
   "execution_count": null,
   "metadata": {},
   "outputs": [],
   "source": [
    "# Calculate ISIs\n",
    "brian2_ISIs = get_ISIs(brian2_df[\"ids\"].values, brian2_df[\"times\"].values)\n",
    "# Calculating firing rates for the last 50s\n",
    "brian2_neuronrates = get_rates(brian2_df[\"ids\"].values, brian2_df[\"times\"].values)"
   ]
  },
  {
   "cell_type": "code",
   "execution_count": null,
   "metadata": {},
   "outputs": [],
   "source": [
    "brian2_data = {\n",
    "    \"name\": \"Brian2\",\n",
    "    \"spikes\": brian2_df,\n",
    "    \"ISIs\": brian2_ISIs,\n",
    "    \"rates\": brian2_neuronrates\n",
    "}"
   ]
  },
  {
   "cell_type": "code",
   "execution_count": null,
   "metadata": {},
   "outputs": [],
   "source": [
    "np.mean(brian2_neuronrates)"
   ]
  },
  {
   "cell_type": "markdown",
   "metadata": {},
   "source": [
    "### Loading GeNN firing times"
   ]
  },
  {
   "cell_type": "code",
   "execution_count": 30,
   "metadata": {},
   "outputs": [
    {
     "name": "stdout",
     "output_type": "stream",
     "text": [
      "\u001b[0m\u001b[01;32mgenerateALL\u001b[0m*  parameters.h  \u001b[01;32msimulator_wrapper\u001b[0m*    timer.h\n",
      "lif.h         \u001b[01;32msimulator\u001b[0m*    sm_version.mk         \u001b[01;34mva_benchmark_CODE\u001b[0m/\n",
      "Makefile      simulator.cc  spike_csv_recorder.h\n",
      "matLoader.h   simulator.d   spikes.csv\n",
      "model.cc      simulator.o   timefile.dat\n"
     ]
    }
   ],
   "source": [
    "ls ../genn/"
   ]
  },
  {
   "cell_type": "code",
   "execution_count": 31,
   "metadata": {},
   "outputs": [],
   "source": [
    "spikesfile = \"../genn/spikes.csv\"\n",
    "genn_df = pd.read_csv(spikesfile)\n",
    "genn_df = genn_df.rename(index=str, columns={\" Neuron ID\": \"ids\", \"Time [ms]\": \"times\"})"
   ]
  },
  {
   "cell_type": "code",
   "execution_count": 32,
   "metadata": {},
   "outputs": [],
   "source": [
    "# Bring timing into seconds\n",
    "genn_df[\"times\"] /= 10000.0"
   ]
  },
  {
   "cell_type": "code",
   "execution_count": 33,
   "metadata": {},
   "outputs": [],
   "source": [
    "# Calculate ISIs\n",
    "genn_ISIs = get_ISIs(genn_df[\"ids\"].values, genn_df[\"times\"].values)\n",
    "# Calculating firing rates for the last 50s\n",
    "genn_neuronrates = get_rates(genn_df[\"ids\"].values, genn_df[\"times\"].values)"
   ]
  },
  {
   "cell_type": "code",
   "execution_count": 34,
   "metadata": {},
   "outputs": [],
   "source": [
    "genn_data = {\n",
    "    \"name\": \"GeNN\",\n",
    "    \"spikes\": genn_df,\n",
    "    \"ISIs\": genn_ISIs,\n",
    "    \"rates\": genn_neuronrates\n",
    "}"
   ]
  },
  {
   "cell_type": "code",
   "execution_count": 35,
   "metadata": {},
   "outputs": [
    {
     "data": {
      "text/plain": [
       "17.052209375"
      ]
     },
     "execution_count": 35,
     "metadata": {},
     "output_type": "execute_result"
    }
   ],
   "source": [
    "np.mean(genn_neuronrates)"
   ]
  },
  {
   "cell_type": "markdown",
   "metadata": {},
   "source": [
    "## Comparing Simulators"
   ]
  },
  {
   "cell_type": "code",
   "execution_count": null,
   "metadata": {},
   "outputs": [],
   "source": [
    "simulator_data = [\n",
    "    nest_data,\n",
    "    spike_data,\n",
    "    auryn_data,\n",
    "    annarchy_data,\n",
    "    brian2_data,\n",
    "    genn_data\n",
    "]"
   ]
  },
  {
   "cell_type": "code",
   "execution_count": null,
   "metadata": {},
   "outputs": [],
   "source": [
    "fig = plt.figure(figsize=(35, 10))\n",
    "starttime = 0.0\n",
    "endtime = 0.1\n",
    "\n",
    "for index, data in enumerate(simulator_data):\n",
    "    ax = plt.subplot(2, len(simulator_data) / 2, index + 1)\n",
    "    mask = (data[\"spikes\"][\"times\"] > starttime) & (data[\"spikes\"][\"times\"] < endtime) & (data[\"spikes\"][\"ids\"] < 3200)\n",
    "    ax.scatter(data[\"spikes\"][\"times\"][mask], data[\"spikes\"][\"ids\"][mask], marker='.')\n",
    "    ax.set_title(data[\"name\"] + \" Simulator\")\n",
    "    ax.set_xlabel(\"Time (s)\")\n",
    "    ax.set_ylabel(\"Neuron ID\")\n",
    "    ax.set_xlim([starttime, endtime])\n",
    "\n",
    "fig.suptitle('Vogels Abbott Benchmark Spike Trains')"
   ]
  },
  {
   "cell_type": "code",
   "execution_count": null,
   "metadata": {},
   "outputs": [],
   "source": [
    "binvals = np.linspace(0.0, 0.4, 20)\n",
    "colours = ['red', 'green', 'blue', 'orange', 'magenta', 'black']\n",
    "fig = plt.figure(figsize=(25, 15))\n",
    "num_rows = 3\n",
    "\n",
    "#Individual ISI plots\n",
    "for index, data in enumerate(simulator_data):\n",
    "    ax = plt.subplot(num_rows, int(np.ceil(float(len(simulator_data) + 1) / num_rows)), index + 1)\n",
    "    ax.set_yscale('log')\n",
    "    ax.hist(np.asarray(data[\"ISIs\"]), bins=binvals, label=(data[\"name\"] + \" Simulator\"), alpha=0.25, color=colours[index])\n",
    "    ax.set_title(data[\"name\"] + \" Simulator\")\n",
    "    ax.set_xlabel(\"Inter-Spike Interval (s)\")\n",
    "    ax.set_xlim([0.00, 0.40])\n",
    "    ax.set_ylim([10**4, 10**7])\n",
    "\n",
    "\n",
    "# Combined ISI plot\n",
    "all_ax = plt.subplot(num_rows, int(np.ceil(float(len(simulator_data) + 1) / num_rows)), (num_rows * int(np.ceil(float(len(simulator_data) + 1) / num_rows))))\n",
    "for index, data in enumerate(simulator_data):\n",
    "    all_ax.hist(np.asarray(data[\"ISIs\"]), bins=binvals, label=(data[\"name\"] + \" Simulator\"), alpha=0.25, color=colours[index], histtype=u'step')\n",
    "all_ax.set_title(\"All Simulators Comparison\")\n",
    "all_ax.set_xlabel(\"Inter-Spike Interval (s)\")\n",
    "all_ax.set_yscale('log')\n",
    "all_ax.set_ylim([10**4, 10**7])\n",
    "all_ax.set_xlim([0.00, 0.40])\n",
    "all_ax.legend()\n",
    "\n",
    "fig.suptitle('Vogels Abbott Benchmark ISI Histograms')"
   ]
  },
  {
   "cell_type": "markdown",
   "metadata": {},
   "source": [
    "In the plots above, note that the simulators have close to identical ISI distributions except for Brian2"
   ]
  },
  {
   "cell_type": "code",
   "execution_count": null,
   "metadata": {},
   "outputs": [],
   "source": [
    "fig = plt.figure(figsize=(12, 6))\n",
    "\n",
    "meanrates = []\n",
    "ratestd = []\n",
    "labelstrings = []\n",
    "\n",
    "for index, data in enumerate(simulator_data):\n",
    "    meanrates.append(np.mean(data[\"rates\"]))\n",
    "    ratestd.append(np.std(data[\"rates\"]))\n",
    "    labelstrings.append(data[\"name\"])\n",
    "\n",
    "plt.bar(range(len(simulator_data)), meanrates, yerr=ratestd, color=\"k\", align='center')\n",
    "plt.xticks(range(len(simulator_data)), labelstrings)\n",
    "plt.ylabel(\"Firing Rate (Hz)\")\n",
    "plt.xlabel(\"Simulator\")\n",
    "plt.title(\"Comparison of average firing rates and firing rate standard deviations across simulators\")"
   ]
  }
 ],
 "metadata": {
  "kernelspec": {
   "display_name": "Python [conda env:cochlea]",
   "language": "python",
   "name": "conda-env-cochlea-py"
  },
  "language_info": {
   "codemirror_mode": {
    "name": "ipython",
    "version": 2
   },
   "file_extension": ".py",
   "mimetype": "text/x-python",
   "name": "python",
   "nbconvert_exporter": "python",
   "pygments_lexer": "ipython2",
   "version": "2.7.12"
  }
 },
 "nbformat": 4,
 "nbformat_minor": 2
}
